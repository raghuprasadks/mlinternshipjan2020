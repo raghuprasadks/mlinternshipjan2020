{
 "cells": [
  {
   "cell_type": "code",
   "execution_count": 10,
   "metadata": {},
   "outputs": [],
   "source": [
    "import pandas as pd\n",
    "import numpy as np\n",
    "from matplotlib import pyplot as plt\n",
    "from sklearn import linear_model\n",
    "import matplotlib \n"
   ]
  },
  {
   "cell_type": "code",
   "execution_count": 12,
   "metadata": {},
   "outputs": [
    {
     "data": {
      "text/html": [
       "<div>\n",
       "<style scoped>\n",
       "    .dataframe tbody tr th:only-of-type {\n",
       "        vertical-align: middle;\n",
       "    }\n",
       "\n",
       "    .dataframe tbody tr th {\n",
       "        vertical-align: top;\n",
       "    }\n",
       "\n",
       "    .dataframe thead th {\n",
       "        text-align: right;\n",
       "    }\n",
       "</style>\n",
       "<table border=\"1\" class=\"dataframe\">\n",
       "  <thead>\n",
       "    <tr style=\"text-align: right;\">\n",
       "      <th></th>\n",
       "      <th>fixed acidity</th>\n",
       "      <th>volatile acidity</th>\n",
       "      <th>citric acid</th>\n",
       "      <th>residual sugar</th>\n",
       "      <th>chlorides</th>\n",
       "      <th>free sulfur dioxide</th>\n",
       "      <th>total sulfur dioxide</th>\n",
       "      <th>density</th>\n",
       "      <th>pH</th>\n",
       "      <th>sulphates</th>\n",
       "      <th>alcohol</th>\n",
       "      <th>quality</th>\n",
       "    </tr>\n",
       "  </thead>\n",
       "  <tbody>\n",
       "    <tr>\n",
       "      <td>0</td>\n",
       "      <td>7.4</td>\n",
       "      <td>0.70</td>\n",
       "      <td>0.00</td>\n",
       "      <td>1.9</td>\n",
       "      <td>0.076</td>\n",
       "      <td>11.0</td>\n",
       "      <td>34.0</td>\n",
       "      <td>0.9978</td>\n",
       "      <td>3.51</td>\n",
       "      <td>0.56</td>\n",
       "      <td>9.4</td>\n",
       "      <td>5</td>\n",
       "    </tr>\n",
       "    <tr>\n",
       "      <td>1</td>\n",
       "      <td>7.8</td>\n",
       "      <td>0.88</td>\n",
       "      <td>0.00</td>\n",
       "      <td>2.6</td>\n",
       "      <td>0.098</td>\n",
       "      <td>25.0</td>\n",
       "      <td>67.0</td>\n",
       "      <td>0.9968</td>\n",
       "      <td>3.20</td>\n",
       "      <td>0.68</td>\n",
       "      <td>9.8</td>\n",
       "      <td>5</td>\n",
       "    </tr>\n",
       "    <tr>\n",
       "      <td>2</td>\n",
       "      <td>7.8</td>\n",
       "      <td>0.76</td>\n",
       "      <td>0.04</td>\n",
       "      <td>2.3</td>\n",
       "      <td>0.092</td>\n",
       "      <td>15.0</td>\n",
       "      <td>54.0</td>\n",
       "      <td>0.9970</td>\n",
       "      <td>3.26</td>\n",
       "      <td>0.65</td>\n",
       "      <td>9.8</td>\n",
       "      <td>5</td>\n",
       "    </tr>\n",
       "    <tr>\n",
       "      <td>3</td>\n",
       "      <td>11.2</td>\n",
       "      <td>0.28</td>\n",
       "      <td>0.56</td>\n",
       "      <td>1.9</td>\n",
       "      <td>0.075</td>\n",
       "      <td>17.0</td>\n",
       "      <td>60.0</td>\n",
       "      <td>0.9980</td>\n",
       "      <td>3.16</td>\n",
       "      <td>0.58</td>\n",
       "      <td>9.8</td>\n",
       "      <td>6</td>\n",
       "    </tr>\n",
       "    <tr>\n",
       "      <td>4</td>\n",
       "      <td>7.4</td>\n",
       "      <td>0.70</td>\n",
       "      <td>0.00</td>\n",
       "      <td>1.9</td>\n",
       "      <td>0.076</td>\n",
       "      <td>11.0</td>\n",
       "      <td>34.0</td>\n",
       "      <td>0.9978</td>\n",
       "      <td>3.51</td>\n",
       "      <td>0.56</td>\n",
       "      <td>9.4</td>\n",
       "      <td>5</td>\n",
       "    </tr>\n",
       "  </tbody>\n",
       "</table>\n",
       "</div>"
      ],
      "text/plain": [
       "   fixed acidity  volatile acidity  citric acid  residual sugar  chlorides  \\\n",
       "0            7.4              0.70         0.00             1.9      0.076   \n",
       "1            7.8              0.88         0.00             2.6      0.098   \n",
       "2            7.8              0.76         0.04             2.3      0.092   \n",
       "3           11.2              0.28         0.56             1.9      0.075   \n",
       "4            7.4              0.70         0.00             1.9      0.076   \n",
       "\n",
       "   free sulfur dioxide  total sulfur dioxide  density    pH  sulphates  \\\n",
       "0                 11.0                  34.0   0.9978  3.51       0.56   \n",
       "1                 25.0                  67.0   0.9968  3.20       0.68   \n",
       "2                 15.0                  54.0   0.9970  3.26       0.65   \n",
       "3                 17.0                  60.0   0.9980  3.16       0.58   \n",
       "4                 11.0                  34.0   0.9978  3.51       0.56   \n",
       "\n",
       "   alcohol  quality  \n",
       "0      9.4        5  \n",
       "1      9.8        5  \n",
       "2      9.8        5  \n",
       "3      9.8        6  \n",
       "4      9.4        5  "
      ]
     },
     "execution_count": 12,
     "metadata": {},
     "output_type": "execute_result"
    }
   ],
   "source": [
    "df = pd.read_csv(\"winequality-red.csv\")\n",
    "df.head()"
   ]
  },
  {
   "cell_type": "code",
   "execution_count": 13,
   "metadata": {},
   "outputs": [
    {
     "data": {
      "text/html": [
       "<div>\n",
       "<style scoped>\n",
       "    .dataframe tbody tr th:only-of-type {\n",
       "        vertical-align: middle;\n",
       "    }\n",
       "\n",
       "    .dataframe tbody tr th {\n",
       "        vertical-align: top;\n",
       "    }\n",
       "\n",
       "    .dataframe thead th {\n",
       "        text-align: right;\n",
       "    }\n",
       "</style>\n",
       "<table border=\"1\" class=\"dataframe\">\n",
       "  <thead>\n",
       "    <tr style=\"text-align: right;\">\n",
       "      <th></th>\n",
       "      <th>residual sugar</th>\n",
       "      <th>pH</th>\n",
       "      <th>alcohol</th>\n",
       "      <th>quality</th>\n",
       "    </tr>\n",
       "  </thead>\n",
       "  <tbody>\n",
       "    <tr>\n",
       "      <td>0</td>\n",
       "      <td>1.9</td>\n",
       "      <td>3.51</td>\n",
       "      <td>9.4</td>\n",
       "      <td>5</td>\n",
       "    </tr>\n",
       "    <tr>\n",
       "      <td>1</td>\n",
       "      <td>2.6</td>\n",
       "      <td>3.20</td>\n",
       "      <td>9.8</td>\n",
       "      <td>5</td>\n",
       "    </tr>\n",
       "    <tr>\n",
       "      <td>2</td>\n",
       "      <td>2.3</td>\n",
       "      <td>3.26</td>\n",
       "      <td>9.8</td>\n",
       "      <td>5</td>\n",
       "    </tr>\n",
       "    <tr>\n",
       "      <td>3</td>\n",
       "      <td>1.9</td>\n",
       "      <td>3.16</td>\n",
       "      <td>9.8</td>\n",
       "      <td>6</td>\n",
       "    </tr>\n",
       "    <tr>\n",
       "      <td>4</td>\n",
       "      <td>1.9</td>\n",
       "      <td>3.51</td>\n",
       "      <td>9.4</td>\n",
       "      <td>5</td>\n",
       "    </tr>\n",
       "    <tr>\n",
       "      <td>...</td>\n",
       "      <td>...</td>\n",
       "      <td>...</td>\n",
       "      <td>...</td>\n",
       "      <td>...</td>\n",
       "    </tr>\n",
       "    <tr>\n",
       "      <td>1594</td>\n",
       "      <td>2.0</td>\n",
       "      <td>3.45</td>\n",
       "      <td>10.5</td>\n",
       "      <td>5</td>\n",
       "    </tr>\n",
       "    <tr>\n",
       "      <td>1595</td>\n",
       "      <td>2.2</td>\n",
       "      <td>3.52</td>\n",
       "      <td>11.2</td>\n",
       "      <td>6</td>\n",
       "    </tr>\n",
       "    <tr>\n",
       "      <td>1596</td>\n",
       "      <td>2.3</td>\n",
       "      <td>3.42</td>\n",
       "      <td>11.0</td>\n",
       "      <td>6</td>\n",
       "    </tr>\n",
       "    <tr>\n",
       "      <td>1597</td>\n",
       "      <td>2.0</td>\n",
       "      <td>3.57</td>\n",
       "      <td>10.2</td>\n",
       "      <td>5</td>\n",
       "    </tr>\n",
       "    <tr>\n",
       "      <td>1598</td>\n",
       "      <td>3.6</td>\n",
       "      <td>3.39</td>\n",
       "      <td>11.0</td>\n",
       "      <td>6</td>\n",
       "    </tr>\n",
       "  </tbody>\n",
       "</table>\n",
       "<p>1599 rows × 4 columns</p>\n",
       "</div>"
      ],
      "text/plain": [
       "      residual sugar    pH  alcohol  quality\n",
       "0                1.9  3.51      9.4        5\n",
       "1                2.6  3.20      9.8        5\n",
       "2                2.3  3.26      9.8        5\n",
       "3                1.9  3.16      9.8        6\n",
       "4                1.9  3.51      9.4        5\n",
       "...              ...   ...      ...      ...\n",
       "1594             2.0  3.45     10.5        5\n",
       "1595             2.2  3.52     11.2        6\n",
       "1596             2.3  3.42     11.0        6\n",
       "1597             2.0  3.57     10.2        5\n",
       "1598             3.6  3.39     11.0        6\n",
       "\n",
       "[1599 rows x 4 columns]"
      ]
     },
     "execution_count": 13,
     "metadata": {},
     "output_type": "execute_result"
    }
   ],
   "source": [
    "df=df.drop(['chlorides','free sulfur dioxide','total sulfur dioxide','density','sulphates','fixed acidity','volatile acidity','citric acid',],axis='columns')\n",
    "df"
   ]
  },
  {
   "cell_type": "code",
   "execution_count": 14,
   "metadata": {},
   "outputs": [
    {
     "data": {
      "text/html": [
       "<div>\n",
       "<style scoped>\n",
       "    .dataframe tbody tr th:only-of-type {\n",
       "        vertical-align: middle;\n",
       "    }\n",
       "\n",
       "    .dataframe tbody tr th {\n",
       "        vertical-align: top;\n",
       "    }\n",
       "\n",
       "    .dataframe thead th {\n",
       "        text-align: right;\n",
       "    }\n",
       "</style>\n",
       "<table border=\"1\" class=\"dataframe\">\n",
       "  <thead>\n",
       "    <tr style=\"text-align: right;\">\n",
       "      <th></th>\n",
       "      <th>residual sugar</th>\n",
       "      <th>pH</th>\n",
       "      <th>alcohol</th>\n",
       "      <th>quality</th>\n",
       "    </tr>\n",
       "  </thead>\n",
       "  <tbody>\n",
       "    <tr>\n",
       "      <td>0</td>\n",
       "      <td>1.9</td>\n",
       "      <td>3.51</td>\n",
       "      <td>9.4</td>\n",
       "      <td>5</td>\n",
       "    </tr>\n",
       "    <tr>\n",
       "      <td>1</td>\n",
       "      <td>2.6</td>\n",
       "      <td>3.20</td>\n",
       "      <td>9.8</td>\n",
       "      <td>5</td>\n",
       "    </tr>\n",
       "    <tr>\n",
       "      <td>2</td>\n",
       "      <td>2.3</td>\n",
       "      <td>3.26</td>\n",
       "      <td>9.8</td>\n",
       "      <td>5</td>\n",
       "    </tr>\n",
       "    <tr>\n",
       "      <td>3</td>\n",
       "      <td>1.9</td>\n",
       "      <td>3.16</td>\n",
       "      <td>9.8</td>\n",
       "      <td>6</td>\n",
       "    </tr>\n",
       "    <tr>\n",
       "      <td>4</td>\n",
       "      <td>1.9</td>\n",
       "      <td>3.51</td>\n",
       "      <td>9.4</td>\n",
       "      <td>5</td>\n",
       "    </tr>\n",
       "    <tr>\n",
       "      <td>...</td>\n",
       "      <td>...</td>\n",
       "      <td>...</td>\n",
       "      <td>...</td>\n",
       "      <td>...</td>\n",
       "    </tr>\n",
       "    <tr>\n",
       "      <td>1594</td>\n",
       "      <td>2.0</td>\n",
       "      <td>3.45</td>\n",
       "      <td>10.5</td>\n",
       "      <td>5</td>\n",
       "    </tr>\n",
       "    <tr>\n",
       "      <td>1595</td>\n",
       "      <td>2.2</td>\n",
       "      <td>3.52</td>\n",
       "      <td>11.2</td>\n",
       "      <td>6</td>\n",
       "    </tr>\n",
       "    <tr>\n",
       "      <td>1596</td>\n",
       "      <td>2.3</td>\n",
       "      <td>3.42</td>\n",
       "      <td>11.0</td>\n",
       "      <td>6</td>\n",
       "    </tr>\n",
       "    <tr>\n",
       "      <td>1597</td>\n",
       "      <td>2.0</td>\n",
       "      <td>3.57</td>\n",
       "      <td>10.2</td>\n",
       "      <td>5</td>\n",
       "    </tr>\n",
       "    <tr>\n",
       "      <td>1598</td>\n",
       "      <td>3.6</td>\n",
       "      <td>3.39</td>\n",
       "      <td>11.0</td>\n",
       "      <td>6</td>\n",
       "    </tr>\n",
       "  </tbody>\n",
       "</table>\n",
       "<p>1599 rows × 4 columns</p>\n",
       "</div>"
      ],
      "text/plain": [
       "      residual sugar    pH  alcohol  quality\n",
       "0                1.9  3.51      9.4        5\n",
       "1                2.6  3.20      9.8        5\n",
       "2                2.3  3.26      9.8        5\n",
       "3                1.9  3.16      9.8        6\n",
       "4                1.9  3.51      9.4        5\n",
       "...              ...   ...      ...      ...\n",
       "1594             2.0  3.45     10.5        5\n",
       "1595             2.2  3.52     11.2        6\n",
       "1596             2.3  3.42     11.0        6\n",
       "1597             2.0  3.57     10.2        5\n",
       "1598             3.6  3.39     11.0        6\n",
       "\n",
       "[1599 rows x 4 columns]"
      ]
     },
     "execution_count": 14,
     "metadata": {},
     "output_type": "execute_result"
    }
   ],
   "source": [
    "reg = linear_model.LinearRegression()\n",
    "reg.fit(df.drop('quality',axis='columns'),df.quality)\n",
    "df"
   ]
  },
  {
   "cell_type": "code",
   "execution_count": 17,
   "metadata": {},
   "outputs": [
    {
     "data": {
      "text/plain": [
       "array([5.07661025])"
      ]
     },
     "execution_count": 17,
     "metadata": {},
     "output_type": "execute_result"
    }
   ],
   "source": [
    "reg.predict([[1.9,3.51,9.4]])"
   ]
  },
  {
   "cell_type": "code",
   "execution_count": 18,
   "metadata": {},
   "outputs": [],
   "source": [
    "X=df[['residual sugar','pH','alcohol']]"
   ]
  },
  {
   "cell_type": "code",
   "execution_count": 19,
   "metadata": {},
   "outputs": [],
   "source": [
    "y=df['quality']"
   ]
  },
  {
   "cell_type": "code",
   "execution_count": 20,
   "metadata": {},
   "outputs": [],
   "source": [
    "from sklearn.model_selection import train_test_split\n",
    "X_train, X_test, y_train, y_test = train_test_split(X,y,test_size=0.2) "
   ]
  },
  {
   "cell_type": "code",
   "execution_count": 21,
   "metadata": {},
   "outputs": [
    {
     "data": {
      "text/html": [
       "<div>\n",
       "<style scoped>\n",
       "    .dataframe tbody tr th:only-of-type {\n",
       "        vertical-align: middle;\n",
       "    }\n",
       "\n",
       "    .dataframe tbody tr th {\n",
       "        vertical-align: top;\n",
       "    }\n",
       "\n",
       "    .dataframe thead th {\n",
       "        text-align: right;\n",
       "    }\n",
       "</style>\n",
       "<table border=\"1\" class=\"dataframe\">\n",
       "  <thead>\n",
       "    <tr style=\"text-align: right;\">\n",
       "      <th></th>\n",
       "      <th>residual sugar</th>\n",
       "      <th>pH</th>\n",
       "      <th>alcohol</th>\n",
       "    </tr>\n",
       "  </thead>\n",
       "  <tbody>\n",
       "    <tr>\n",
       "      <td>376</td>\n",
       "      <td>3.0</td>\n",
       "      <td>3.26</td>\n",
       "      <td>11.0</td>\n",
       "    </tr>\n",
       "    <tr>\n",
       "      <td>835</td>\n",
       "      <td>1.5</td>\n",
       "      <td>3.39</td>\n",
       "      <td>9.3</td>\n",
       "    </tr>\n",
       "    <tr>\n",
       "      <td>812</td>\n",
       "      <td>2.5</td>\n",
       "      <td>3.24</td>\n",
       "      <td>10.8</td>\n",
       "    </tr>\n",
       "    <tr>\n",
       "      <td>154</td>\n",
       "      <td>5.5</td>\n",
       "      <td>3.42</td>\n",
       "      <td>10.5</td>\n",
       "    </tr>\n",
       "    <tr>\n",
       "      <td>93</td>\n",
       "      <td>1.9</td>\n",
       "      <td>3.39</td>\n",
       "      <td>9.6</td>\n",
       "    </tr>\n",
       "    <tr>\n",
       "      <td>...</td>\n",
       "      <td>...</td>\n",
       "      <td>...</td>\n",
       "      <td>...</td>\n",
       "    </tr>\n",
       "    <tr>\n",
       "      <td>37</td>\n",
       "      <td>2.1</td>\n",
       "      <td>3.23</td>\n",
       "      <td>9.7</td>\n",
       "    </tr>\n",
       "    <tr>\n",
       "      <td>525</td>\n",
       "      <td>2.8</td>\n",
       "      <td>3.24</td>\n",
       "      <td>9.9</td>\n",
       "    </tr>\n",
       "    <tr>\n",
       "      <td>869</td>\n",
       "      <td>2.0</td>\n",
       "      <td>3.44</td>\n",
       "      <td>10.9</td>\n",
       "    </tr>\n",
       "    <tr>\n",
       "      <td>615</td>\n",
       "      <td>2.3</td>\n",
       "      <td>3.50</td>\n",
       "      <td>9.7</td>\n",
       "    </tr>\n",
       "    <tr>\n",
       "      <td>890</td>\n",
       "      <td>2.0</td>\n",
       "      <td>3.44</td>\n",
       "      <td>10.1</td>\n",
       "    </tr>\n",
       "  </tbody>\n",
       "</table>\n",
       "<p>1279 rows × 3 columns</p>\n",
       "</div>"
      ],
      "text/plain": [
       "     residual sugar    pH  alcohol\n",
       "376             3.0  3.26     11.0\n",
       "835             1.5  3.39      9.3\n",
       "812             2.5  3.24     10.8\n",
       "154             5.5  3.42     10.5\n",
       "93              1.9  3.39      9.6\n",
       "..              ...   ...      ...\n",
       "37              2.1  3.23      9.7\n",
       "525             2.8  3.24      9.9\n",
       "869             2.0  3.44     10.9\n",
       "615             2.3  3.50      9.7\n",
       "890             2.0  3.44     10.1\n",
       "\n",
       "[1279 rows x 3 columns]"
      ]
     },
     "execution_count": 21,
     "metadata": {},
     "output_type": "execute_result"
    }
   ],
   "source": [
    "X_train\n"
   ]
  },
  {
   "cell_type": "code",
   "execution_count": 23,
   "metadata": {},
   "outputs": [
    {
     "data": {
      "text/html": [
       "<div>\n",
       "<style scoped>\n",
       "    .dataframe tbody tr th:only-of-type {\n",
       "        vertical-align: middle;\n",
       "    }\n",
       "\n",
       "    .dataframe tbody tr th {\n",
       "        vertical-align: top;\n",
       "    }\n",
       "\n",
       "    .dataframe thead th {\n",
       "        text-align: right;\n",
       "    }\n",
       "</style>\n",
       "<table border=\"1\" class=\"dataframe\">\n",
       "  <thead>\n",
       "    <tr style=\"text-align: right;\">\n",
       "      <th></th>\n",
       "      <th>residual sugar</th>\n",
       "      <th>pH</th>\n",
       "      <th>alcohol</th>\n",
       "    </tr>\n",
       "  </thead>\n",
       "  <tbody>\n",
       "    <tr>\n",
       "      <td>873</td>\n",
       "      <td>1.60</td>\n",
       "      <td>3.23</td>\n",
       "      <td>11.1</td>\n",
       "    </tr>\n",
       "    <tr>\n",
       "      <td>291</td>\n",
       "      <td>2.00</td>\n",
       "      <td>3.30</td>\n",
       "      <td>10.5</td>\n",
       "    </tr>\n",
       "    <tr>\n",
       "      <td>829</td>\n",
       "      <td>2.10</td>\n",
       "      <td>3.56</td>\n",
       "      <td>11.1</td>\n",
       "    </tr>\n",
       "    <tr>\n",
       "      <td>838</td>\n",
       "      <td>1.60</td>\n",
       "      <td>3.24</td>\n",
       "      <td>11.2</td>\n",
       "    </tr>\n",
       "    <tr>\n",
       "      <td>139</td>\n",
       "      <td>2.00</td>\n",
       "      <td>3.32</td>\n",
       "      <td>9.5</td>\n",
       "    </tr>\n",
       "    <tr>\n",
       "      <td>...</td>\n",
       "      <td>...</td>\n",
       "      <td>...</td>\n",
       "      <td>...</td>\n",
       "    </tr>\n",
       "    <tr>\n",
       "      <td>691</td>\n",
       "      <td>2.60</td>\n",
       "      <td>3.48</td>\n",
       "      <td>9.8</td>\n",
       "    </tr>\n",
       "    <tr>\n",
       "      <td>982</td>\n",
       "      <td>2.10</td>\n",
       "      <td>3.34</td>\n",
       "      <td>12.9</td>\n",
       "    </tr>\n",
       "    <tr>\n",
       "      <td>915</td>\n",
       "      <td>2.20</td>\n",
       "      <td>3.27</td>\n",
       "      <td>11.9</td>\n",
       "    </tr>\n",
       "    <tr>\n",
       "      <td>462</td>\n",
       "      <td>2.55</td>\n",
       "      <td>3.18</td>\n",
       "      <td>11.8</td>\n",
       "    </tr>\n",
       "    <tr>\n",
       "      <td>53</td>\n",
       "      <td>3.00</td>\n",
       "      <td>3.20</td>\n",
       "      <td>9.4</td>\n",
       "    </tr>\n",
       "  </tbody>\n",
       "</table>\n",
       "<p>320 rows × 3 columns</p>\n",
       "</div>"
      ],
      "text/plain": [
       "     residual sugar    pH  alcohol\n",
       "873            1.60  3.23     11.1\n",
       "291            2.00  3.30     10.5\n",
       "829            2.10  3.56     11.1\n",
       "838            1.60  3.24     11.2\n",
       "139            2.00  3.32      9.5\n",
       "..              ...   ...      ...\n",
       "691            2.60  3.48      9.8\n",
       "982            2.10  3.34     12.9\n",
       "915            2.20  3.27     11.9\n",
       "462            2.55  3.18     11.8\n",
       "53             3.00  3.20      9.4\n",
       "\n",
       "[320 rows x 3 columns]"
      ]
     },
     "execution_count": 23,
     "metadata": {},
     "output_type": "execute_result"
    }
   ],
   "source": [
    "X_test"
   ]
  },
  {
   "cell_type": "code",
   "execution_count": 24,
   "metadata": {},
   "outputs": [
    {
     "data": {
      "text/plain": [
       "376    6\n",
       "835    5\n",
       "812    5\n",
       "154    5\n",
       "93     5\n",
       "      ..\n",
       "37     7\n",
       "525    5\n",
       "869    6\n",
       "615    5\n",
       "890    5\n",
       "Name: quality, Length: 1279, dtype: int64"
      ]
     },
     "execution_count": 24,
     "metadata": {},
     "output_type": "execute_result"
    }
   ],
   "source": [
    "y_train\n"
   ]
  },
  {
   "cell_type": "code",
   "execution_count": 25,
   "metadata": {},
   "outputs": [
    {
     "data": {
      "text/plain": [
       "873    7\n",
       "291    5\n",
       "829    6\n",
       "838    7\n",
       "139    5\n",
       "      ..\n",
       "691    5\n",
       "982    6\n",
       "915    6\n",
       "462    5\n",
       "53     5\n",
       "Name: quality, Length: 320, dtype: int64"
      ]
     },
     "execution_count": 25,
     "metadata": {},
     "output_type": "execute_result"
    }
   ],
   "source": [
    "y_test"
   ]
  },
  {
   "cell_type": "code",
   "execution_count": 26,
   "metadata": {},
   "outputs": [
    {
     "data": {
      "text/plain": [
       "LinearRegression(copy_X=True, fit_intercept=True, n_jobs=None, normalize=False)"
      ]
     },
     "execution_count": 26,
     "metadata": {},
     "output_type": "execute_result"
    }
   ],
   "source": [
    "from sklearn.linear_model import LinearRegression\n",
    "clf = LinearRegression()\n",
    "clf.fit(X_train, y_train)"
   ]
  },
  {
   "cell_type": "code",
   "execution_count": 28,
   "metadata": {},
   "outputs": [
    {
     "data": {
      "text/plain": [
       "array([5.97120983, 5.66895098, 5.66432575, 6.00116697, 5.25923824,\n",
       "       4.99497629, 5.93776615, 5.30517977, 5.64899599, 5.05486592,\n",
       "       5.79936237, 5.99717173, 5.68679919, 6.22685131, 5.28677359,\n",
       "       5.54125173, 5.65897349, 5.18501159, 5.79795797, 5.7734744 ,\n",
       "       5.31789405, 5.87334795, 5.29675108, 5.26432632, 5.59990755,\n",
       "       5.25892324, 5.3759233 , 5.38015618, 5.79793333, 5.37536189,\n",
       "       5.39529225, 5.74644775, 6.16967382, 5.39698891, 5.97123447,\n",
       "       5.34535547, 5.2573005 , 5.51478458, 5.24354763, 5.9763684 ,\n",
       "       5.6408823 , 5.18346278, 5.23124348, 5.90461282, 6.34667985,\n",
       "       5.32973536, 5.59361029, 5.93212353, 5.31832882, 5.51478458,\n",
       "       5.97154947, 5.51725222, 5.59029776, 5.69144906, 6.26986236,\n",
       "       5.87463105, 6.02524041, 5.39337915, 5.418227  , 5.41825164,\n",
       "       6.30081224, 5.67461824, 6.23496652, 5.33511226, 5.31917715,\n",
       "       5.5286834 , 5.35175129, 5.18501159, 6.33151914, 5.52749543,\n",
       "       6.12855809, 6.11353836, 5.15832457, 5.70221689, 5.22368777,\n",
       "       5.61627743, 5.62192005, 6.2687976 , 5.49647353, 5.64114992,\n",
       "       5.70714311, 5.67929276, 6.42800279, 5.37463677, 5.56675765,\n",
       "       5.95096448, 5.50918781, 6.05064433, 6.24559713, 5.52616495,\n",
       "       5.35780404, 5.32668358, 5.71297942, 5.43900569, 6.19575549,\n",
       "       5.18101635, 4.98499879, 5.76160845, 5.48484865, 6.67475465,\n",
       "       5.08271626, 6.00760863, 6.47919802, 6.09459884, 5.7757044 ,\n",
       "       5.44365556, 5.23095999, 5.11589423, 5.80638513, 5.6028854 ,\n",
       "       5.31077311, 6.35749507, 5.40040497, 6.11748432, 5.66299337,\n",
       "       5.65219218, 5.17380028, 5.45309973, 5.50405388, 5.40304165,\n",
       "       5.58908172, 6.33219842, 5.609086  , 5.74400132, 6.16611335,\n",
       "       5.35150679, 5.67054908, 5.33696547, 5.3974976 , 6.76280962,\n",
       "       5.16825279, 5.22366312, 5.16905184, 5.17902933, 5.51381648,\n",
       "       5.47247401, 6.20660596, 5.00011021, 5.65401358, 5.50097746,\n",
       "       6.24838319, 5.84435891, 5.49061257, 5.60155493, 6.34212663,\n",
       "       5.51202659, 5.32949428, 5.94098698, 5.42977796, 6.12493086,\n",
       "       6.51155574, 5.89335222, 5.44690104, 5.33736499, 5.22731873,\n",
       "       5.66737753, 5.3210656 , 5.80762047, 5.48891782, 6.37196247,\n",
       "       5.20629897, 5.6426036 , 5.22329885, 5.62095195, 5.15738455,\n",
       "       4.87250953, 5.22143504, 5.665878  , 5.59852588, 5.33264119,\n",
       "       6.23840226, 5.65343287, 5.76395631, 5.20496659, 5.18597969,\n",
       "       5.23930788, 5.13233804, 6.01797505, 5.67345492, 6.16906847,\n",
       "       5.92022234, 5.80822582, 5.44813485, 5.26003729, 6.30744913,\n",
       "       5.24005765, 5.21010051, 5.47632484, 5.59554803, 5.80522333,\n",
       "       5.6345392 , 5.72988264, 5.39451784, 5.23492372, 5.38613844,\n",
       "       6.05824932, 5.71249881, 5.22765836, 5.2400118 , 5.84794403,\n",
       "       5.53108054, 5.59339195, 6.48486529, 5.47923068, 5.04651116,\n",
       "       5.33864809, 5.70198454, 5.41176069, 6.34205461, 5.39146606,\n",
       "       6.51230894, 5.52669638, 5.07726734, 5.15958303, 5.84462463,\n",
       "       5.61438898, 6.51559683, 6.32217163, 5.08498617, 6.25341855,\n",
       "       5.06116317, 6.45496804, 5.12347458, 5.64492682, 4.97712808,\n",
       "       5.19617706, 5.53156803, 5.28224501, 5.16856778, 6.08835087,\n",
       "       6.15809823, 5.3430569 , 5.43571093, 6.51988929, 5.69873906,\n",
       "       5.44060378, 5.79064333, 5.26388811, 5.13313709, 5.52645531,\n",
       "       6.7639483 , 5.74879561, 5.52749543, 5.85111558, 5.20494195,\n",
       "       5.07925436, 6.02422302, 5.80556297, 6.16163406, 5.51996436,\n",
       "       6.48486529, 6.42471147, 5.70221689, 5.621436  , 5.97321059,\n",
       "       6.09428385, 5.38805153, 5.43793902, 6.20624168, 4.87250953,\n",
       "       5.27001478, 5.46237674, 5.72649275, 5.25284585, 5.80556297,\n",
       "       5.84794403, 5.7707869 , 5.19934861, 5.39015832, 5.08271626,\n",
       "       6.44924432, 4.96339642, 5.37422321, 5.9765621 , 5.42173819,\n",
       "       5.1283428 , 6.17489227, 5.064384  , 6.71597391, 6.10099313,\n",
       "       5.41965948, 5.49569912, 5.70162026, 5.7927994 , 4.96339642,\n",
       "       5.46377961, 5.73245037, 5.79875702, 6.34457306, 5.17902933,\n",
       "       5.38967427, 5.52158709, 5.12667078, 5.4298026 , 5.5307197 ,\n",
       "       5.24996466, 5.23599535, 5.50543364, 5.8838095 , 5.74116941,\n",
       "       5.75049227, 5.69512931, 5.28352811, 5.3338538 , 5.8778026 ,\n",
       "       5.60680862, 6.44238909, 6.90557788, 5.29353025, 5.975279  ,\n",
       "       5.23095999, 5.62787766, 5.15345636, 6.23496652, 6.43928803,\n",
       "       5.22499551, 6.57069217, 6.24278642, 6.28346022, 5.32225357])"
      ]
     },
     "execution_count": 28,
     "metadata": {},
     "output_type": "execute_result"
    }
   ],
   "source": [
    "clf.predict(X_test)"
   ]
  },
  {
   "cell_type": "code",
   "execution_count": 29,
   "metadata": {},
   "outputs": [
    {
     "data": {
      "text/plain": [
       "873    7\n",
       "291    5\n",
       "829    6\n",
       "838    7\n",
       "139    5\n",
       "      ..\n",
       "691    5\n",
       "982    6\n",
       "915    6\n",
       "462    5\n",
       "53     5\n",
       "Name: quality, Length: 320, dtype: int64"
      ]
     },
     "execution_count": 29,
     "metadata": {},
     "output_type": "execute_result"
    }
   ],
   "source": [
    "y_test"
   ]
  },
  {
   "cell_type": "code",
   "execution_count": 30,
   "metadata": {},
   "outputs": [
    {
     "data": {
      "text/plain": [
       "0.2310561489370293"
      ]
     },
     "execution_count": 30,
     "metadata": {},
     "output_type": "execute_result"
    }
   ],
   "source": [
    "clf.score(X_test, y_test)"
   ]
  },
  {
   "cell_type": "code",
   "execution_count": 31,
   "metadata": {},
   "outputs": [],
   "source": [
    "import pickle"
   ]
  },
  {
   "cell_type": "code",
   "execution_count": 32,
   "metadata": {},
   "outputs": [],
   "source": [
    "with open('model_pickle','wb') as file:\n",
    "    pickle.dump(reg,file)"
   ]
  },
  {
   "cell_type": "code",
   "execution_count": 33,
   "metadata": {},
   "outputs": [],
   "source": [
    "with open('model_pickle','rb') as file:\n",
    "    mp = pickle.load(file)"
   ]
  },
  {
   "cell_type": "code",
   "execution_count": 34,
   "metadata": {},
   "outputs": [
    {
     "data": {
      "text/plain": [
       "array([-0.01252732, -0.8613732 ,  0.38719996])"
      ]
     },
     "execution_count": 34,
     "metadata": {},
     "output_type": "execute_result"
    }
   ],
   "source": [
    "mp.coef_"
   ]
  },
  {
   "cell_type": "code",
   "execution_count": 35,
   "metadata": {},
   "outputs": [
    {
     "data": {
      "text/plain": [
       "4.484152506269748"
      ]
     },
     "execution_count": 35,
     "metadata": {},
     "output_type": "execute_result"
    }
   ],
   "source": [
    "mp.intercept_"
   ]
  },
  {
   "cell_type": "code",
   "execution_count": 36,
   "metadata": {},
   "outputs": [
    {
     "data": {
      "text/plain": [
       "array([5.95396755])"
      ]
     },
     "execution_count": 36,
     "metadata": {},
     "output_type": "execute_result"
    }
   ],
   "source": [
    "mp.predict([[2.5,5,15]])"
   ]
  },
  {
   "cell_type": "code",
   "execution_count": 37,
   "metadata": {},
   "outputs": [
    {
     "data": {
      "text/plain": [
       "array([6.81581286])"
      ]
     },
     "execution_count": 37,
     "metadata": {},
     "output_type": "execute_result"
    }
   ],
   "source": [
    "mp.predict([[5.6,8,24]])"
   ]
  },
  {
   "cell_type": "code",
   "execution_count": null,
   "metadata": {},
   "outputs": [],
   "source": []
  }
 ],
 "metadata": {
  "kernelspec": {
   "display_name": "Python 3",
   "language": "python",
   "name": "python3"
  },
  "language_info": {
   "codemirror_mode": {
    "name": "ipython",
    "version": 3
   },
   "file_extension": ".py",
   "mimetype": "text/x-python",
   "name": "python",
   "nbconvert_exporter": "python",
   "pygments_lexer": "ipython3",
   "version": "3.7.4"
  }
 },
 "nbformat": 4,
 "nbformat_minor": 2
}
